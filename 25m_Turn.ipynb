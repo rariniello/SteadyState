{
 "cells": [
  {
   "cell_type": "code",
   "execution_count": 1,
   "metadata": {
    "collapsed": true
   },
   "outputs": [],
   "source": [
    "import numpy as np\n",
    "import matplotlib.pyplot as plt\n",
    "import matplotlib.gridspec as gridspec\n",
    "import tire\n",
    "import car\n",
    "from scipy.optimize import newton\n",
    "con = 180/np.pi"
   ]
  },
  {
   "cell_type": "code",
   "execution_count": 2,
   "metadata": {
    "collapsed": false
   },
   "outputs": [
    {
     "name": "stdout",
     "output_type": "stream",
     "text": [
      "Roll axis inclination: 1.43 deg\n",
      "Unsprung CG height from roll axis: 0.17 m\n",
      "Roll sensitivity: -0.50 deg/g\n",
      "Front lateral weight transfer: 174.81 N/g\n",
      "Rear lateral weight transfer:  324.43 N/g\n",
      "Longitudinal weight transfer:       399.74 N/g\n",
      "Front static wheel load:            -668.60 N\n",
      "Rear static wheel load:             -665.40 N\n",
      "Total weight:     -2668.00 N\n"
     ]
    }
   ],
   "source": [
    "params = {\n",
    "    'W_uf' : 111,    #Front unsprung weight (N)\n",
    "    'W_ur' : 111,    #Rear unsprung weight  (N)\n",
    "    'W_s'  : 2446,   #Sprung weight         (N)\n",
    "    # CG locations\n",
    "    'z_wf' : 0.21,   #Front unsprung height (m)\n",
    "    'z_wr' : 0.21,   #Rear unsprung height  (m)\n",
    "    'h_s'  : 0.23,   #Sprung height         (m)\n",
    "    'a_s'  : 0.76,   #Sprung distance from front axle (m)\n",
    "    # Car geometry\n",
    "    'l'    : 1.524,  #Wheelbase   (m)\n",
    "    't_f'  : 1.22,   #Front track (m)\n",
    "    't_r'  : 1.22,   #Rear track  (m)\n",
    "    # Roll center heights\n",
    "    'z_rf' : 0.038,  #Front roll center height (m)\n",
    "    'z_rr' : 0.076,  #Rear roll center height  (m)\n",
    "    # Roll rates\n",
    "    'K_f'  : 16.5e3, #Front roll rate (N-m/rad)\n",
    "    'K_r'  : 32.0e3, #Rear roll rate  (N-m/rad)\n",
    "    # Steering\n",
    "    'ack'  : 0.0,    #Steering Ackerman (%)\n",
    "    'toe_f': 0.5,   #Front toe (deg)\n",
    "    'toe_r': 1.0,    #Rear toe  (deg)\n",
    "    'tire' : tire.Hoosier10X7()\n",
    "}\n",
    "C = car.Car(params)"
   ]
  },
  {
   "cell_type": "code",
   "execution_count": 3,
   "metadata": {
    "collapsed": false
   },
   "outputs": [
    {
     "name": "stderr",
     "output_type": "stream",
     "text": [
      "/home/robert/anaconda3/lib/python3.6/site-packages/ipykernel_launcher.py:17: RuntimeWarning: invalid value encountered in greater\n"
     ]
    },
    {
     "data": {
      "image/png": "[encoded data removed]",
      "text/plain": [
       "<matplotlib.figure.Figure at 0x7f91d041fac8>"
      ]
     },
     "metadata": {},
     "output_type": "display_data"
    }
   ],
   "source": [
    "N = 50\n",
    "r = 25\n",
    "beta = np.linspace(-8, 0, N)\n",
    "beta *= 1/con\n",
    "delta = np.zeros(N, dtype='double')\n",
    "Ay = np.zeros(N, dtype='double')\n",
    "Fx = np.zeros(N, dtype='double')\n",
    "load = np.zeros(N, dtype=[('fr', 'double'), ('fl', 'double'), ('rr', 'double'), ('rl', 'double')])\n",
    "KA = np.zeros(N, dtype=[('fr', 'double'), ('fl', 'double'), ('rr', 'double'), ('rl', 'double')])\n",
    "SA = np.zeros(N, dtype=[('fr', 'double'), ('fl', 'double'), ('rr', 'double'), ('rl', 'double')])\n",
    "F = {}\n",
    "FE = {}\n",
    "for i in range(N):\n",
    "    delta[i] = C.get_delta(r, beta[i], delta0=0.01)\n",
    "    Ay[i], Fx[i], load[i], KA[i], SA[i], F[i], FE[i] = C.Ay_Fx_from_angle(r, beta[i], delta[i], extra=True)\n",
    "\n",
    "sel = Ay > 0\n",
    "plt.plot(beta[sel]*con, delta[sel]*con, 'tab:blue')\n",
    "plt.title('Lateral acceleration and steer angle')\n",
    "plt.xlabel(r'$\\beta$ (deg)')\n",
    "plt.ylabel(r'$\\delta$ (deg)')\n",
    "plt.twinx()\n",
    "plt.plot(beta[sel]*con, Ay[sel], 'tab:red')\n",
    "plt.ylabel(r'Ay (g)')\n",
    "plt.legend([r'Ay'])\n",
    "plt.show()"
   ]
  },
  {
   "cell_type": "code",
   "execution_count": 4,
   "metadata": {
    "collapsed": false
   },
   "outputs": [
    {
     "name": "stdout",
     "output_type": "stream",
     "text": [
      "Values at the maximum\n",
      "---------------------------------------------------------------------\n",
      "Ay:              1.60 g\n",
      "Beta:            -5.06 deg\n",
      "Delta:           5.39 deg\n",
      "Mz:              -0.00 N-m\n",
      "\n",
      "Wheel parameters             FR          FL          RR          RL\n",
      "---------------------------------------------------------------------\n",
      "Kin angle (deg):          -9.96,     -10.96,      -4.06,      -6.06\n",
      "Slip angle (deg):         -8.30,      -9.14,      -5.97,      -7.64\n",
      "Peak angle (deg):          5.64,       9.11,       5.03,      12.10\n",
      "\n",
      "Wheel loads (N):        -333.23,    -891.02,    -204.27,   -1239.49\n",
      "Tire lon forces (N):       0.00,       0.00,     306.58,     306.58\n",
      "Tire lat forces (N):     678.23,    1519.97,     400.86,    1668.43\n",
      "Eff lon forces (N):     -117.26,    -288.87,     277.42,     128.70\n",
      "Eff lat forces (N):      668.01,    1492.27,     421.57,    1691.47\n",
      "Cha lon forces (N):      -57.87,    -156.09,     313.53,     277.42\n",
      "Cha lat forces (N):      675.75,    1511.93,     395.45,    1673.52\n",
      "\n",
      "Front lat force (N):    2160.28\n",
      "Rear lat force (N):     2113.04\n"
     ]
    }
   ],
   "source": [
    "# First step, analyze the existing car design to see where improvement can be made\n",
    "sel = np.invert(np.isnan(Ay))\n",
    "betaM = beta[sel][0]\n",
    "deltaM = delta[sel][0]\n",
    "AyM, FxM, loadM, KAM, SAM, FM, FEM = C.Ay_Fx_from_angle(r, betaM, deltaM, extra=True)\n",
    "SAP = C.calc_peak_slip_angles(loadM)\n",
    "FCM = C.get_chassis_tire_forces(FM, KAM, betaM)\n",
    "MzM = C.calc_yaw_moment(FCM)\n",
    "C.print_force_info(AyM, betaM, deltaM, MzM, KAM, SAM, SAP, loadM, FM, FEM, FCM)"
   ]
  }
 ],
 "metadata": {
  "kernelspec": {
   "display_name": "Python 3",
   "language": "python",
   "name": "python3"
  },
  "language_info": {
   "codemirror_mode": {
    "name": "ipython",
    "version": 3
   },
   "file_extension": ".py",
   "mimetype": "text/x-python",
   "name": "python",
   "nbconvert_exporter": "python",
   "pygments_lexer": "ipython3",
   "version": "3.6.0"
  }
 },
 "nbformat": 4,
 "nbformat_minor": 2
}
