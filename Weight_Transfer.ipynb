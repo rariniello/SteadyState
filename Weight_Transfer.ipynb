{
 "cells": [
  {
   "cell_type": "code",
   "execution_count": 1,
   "metadata": {
    "collapsed": true
   },
   "outputs": [],
   "source": [
    "import numpy as np\n",
    "import matplotlib.pyplot as plt\n",
    "import matplotlib.gridspec as gridspec\n",
    "import tire\n",
    "from scipy.optimize import newton"
   ]
  },
  {
   "cell_type": "code",
   "execution_count": 2,
   "metadata": {
    "collapsed": false
   },
   "outputs": [
    {
     "name": "stdout",
     "output_type": "stream",
     "text": [
      "theta: 1.43 deg\n",
      "h_2  : 6.75 in\n"
     ]
    }
   ],
   "source": [
    "# Weights of parts of the car in lbs\n",
    "W_uf = 25  #Front unsprung weight (lb)\n",
    "W_ur = 25  #Rear unsprung weight (lb)\n",
    "W_s  = 550 #Sprung weight (lb)\n",
    "# CG locations\n",
    "z_wf = 0.7  #Front unsprung height (ft)\n",
    "z_wr = 0.7  #Rear unsprung height (ft)\n",
    "h_s  = 0.75 #Sprung height (ft)\n",
    "a_s  = 2.5  #Sprung distance from front axle (ft)\n",
    "# Car geometry\n",
    "l   = 5 #Wheelbase (ft)\n",
    "t_f = 4 #Front track (ft)\n",
    "t_r = 4 #Rear track (ft)\n",
    "# Roll center heights\n",
    "z_rf = 0.125 #Front roll center height\n",
    "z_rr = 0.25  #Rear roll center height\n",
    "# Roll rates\n",
    "K_f = 17.5e3 #Front roll rate (lb-ft/rad)\n",
    "K_r = 17.5e3 #Rear roll rate (lb-ft/rad)\n",
    "# Steering\n",
    "ack = 0.5 #Steering Ackerman (%)\n",
    "toe_f = -0.5 #Front toe (deg)\n",
    "toe_r = 0.5 #Rear toe (deg)\n",
    "# Calculated values\n",
    "theta = np.arctan((z_rr-z_rf)/l) #Inclination of roll axis (rad)\n",
    "h_2 = (h_s - a_s*(z_rr-z_rf)/l - z_rf)*np.cos(theta) #Distance between sprung CG and roll axis\n",
    "print('theta: %0.2f deg' % (theta*180/np.pi))\n",
    "print('h_2  : %0.2f in' % (h_2*12))"
   ]
  },
  {
   "cell_type": "code",
   "execution_count": 3,
   "metadata": {
    "collapsed": false
   },
   "outputs": [
    {
     "name": "stdout",
     "output_type": "stream",
     "text": [
      "Roll sensitivity: -0.51 deg/g\n",
      "Front weight transfer: 51.63 lb/g\n",
      "Rear weight transfer:  60.22 lb/g\n"
     ]
    }
   ],
   "source": [
    "# Calculate the roll sensitivity and weight transfer\n",
    "phi = -W_s*h_2 / (K_f+K_r-W_s*h_2)\n",
    "K_fp = K_f - (l-a_s)*W_s*h_2/l\n",
    "DW_f = (-phi*K_fp + W_s*(l-a_s)*z_rf/l+W_uf*z_wf)/t_f\n",
    "K_rp = K_r - a_s*W_s*h_2/l\n",
    "DW_r = (-phi*K_rp + W_s*a_s*z_rr/l+W_ur*z_wr)/t_r\n",
    "print('Roll sensitivity: %0.2f deg/g' % (phi*180/np.pi))\n",
    "print('Front weight transfer: %0.2f lb/g' % DW_f)\n",
    "print('Rear weight transfer:  %0.2f lb/g' % DW_r)"
   ]
  },
  {
   "cell_type": "code",
   "execution_count": 4,
   "metadata": {
    "collapsed": false
   },
   "outputs": [
    {
     "name": "stdout",
     "output_type": "stream",
     "text": [
      "Longitudinal weight transfer: 89.50 lb/g\n",
      "Lateral weight transfer: 111.88 lb/g\n"
     ]
    }
   ],
   "source": [
    "# Front to rear weight transfer\n",
    "DW_x = (h_s*W_s+z_wf*W_uf+z_wr*W_ur)/l\n",
    "DW_y = (h_s*W_s+z_wf*W_uf+z_wr*W_ur)/t_f\n",
    "print('Longitudinal weight transfer: %0.2f lb/g' % DW_x)\n",
    "print('Lateral weight transfer: %0.2f lb/g' % DW_y)"
   ]
  },
  {
   "cell_type": "code",
   "execution_count": 5,
   "metadata": {
    "collapsed": true
   },
   "outputs": [],
   "source": [
    "# From these we can write the wheel loads as a function of acceleration\n",
    "# Positive lateral acceleration adds weight to the left\n",
    "# Positive longitudinal acceleration adds weight to the rear\n",
    "W_f0 = (W_uf + W_s*(l-a_s)/l)/2\n",
    "W_r0 = (W_ur + W_s*a_s/l)/2\n",
    "def load_from_A(A):\n",
    "    \"\"\" Calculate the wheel loads as a function of acceleration in g's. \"\"\"\n",
    "    W_fr = W_f0 - A[0]*DW_x - A[1]*DW_f\n",
    "    W_fl = W_f0 - A[0]*DW_x + A[1]*DW_f\n",
    "    W_rr = W_r0 + A[0]*DW_x - A[1]*DW_r\n",
    "    W_rl = W_r0 + A[0]*DW_x + A[1]*DW_r\n",
    "    return W_fr, W_fl, W_rr, W_rl"
   ]
  },
  {
   "cell_type": "code",
   "execution_count": 6,
   "metadata": {
    "collapsed": true
   },
   "outputs": [],
   "source": [
    "# For a given steer angle and side slip angle, what are the slip angles\n",
    "def slip_from_steer(delta, beta, r):\n",
    "    \"\"\" Calculate the slip angles as a function of steer and thrust angle in rad. \"\"\"\n",
    "    delta_i = 180*np.arctan(l/(l/np.tan(abs(delta)*np.pi/180)-t_f/2))/np.pi\n",
    "    delta_o = 180*np.arctan(l/(l/np.tan(abs(delta)*np.pi/180)+t_f/2))/np.pi\n",
    "    delta_i = ack*(delta_i - delta) + delta\n",
    "    delta_o = ack*(delta_o - delta) + delta\n",
    "    xi_f = 180*np.arctan(a_s/r)/np.pi\n",
    "    xi_r = 180*np.arctan((l-a_s)/r)/np.pi\n",
    "    if delta >= 0:\n",
    "        delta_r = delta_i\n",
    "        delta_l = delta_o\n",
    "    else:\n",
    "        delta_r = -delta_o\n",
    "        delta_l = -delta_i\n",
    "        xi_f *= -1\n",
    "        xi_r *= -1\n",
    "    a_fr = beta+toe_f-delta_r+xi_f\n",
    "    a_fl = beta-toe_f-delta_l+xi_f\n",
    "    a_rr = beta+toe_r-xi_r\n",
    "    a_rl = beta-toe_r-xi_r\n",
    "    return a_fr, a_fl, a_rr, a_rl"
   ]
  },
  {
   "cell_type": "code",
   "execution_count": 7,
   "metadata": {
    "collapsed": false
   },
   "outputs": [
    {
     "name": "stdout",
     "output_type": "stream",
     "text": [
      "Lateral Acceleration: 1.3545225000000003\n",
      "Necessary front tire force: 406.3567500000001\n",
      "Necessary rear tire force: 406.3567500000001\n",
      "Total front tire force: 379.035860415\n",
      "Total rear tire force: 426.167807848\n",
      "141.129680224 237.906180191 123.94725889 302.220548958\n"
     ]
    }
   ],
   "source": [
    "v = 45  #Speed (mph)\n",
    "r = 100 #Turn radius (ft)\n",
    "delta = 1.7\n",
    "beta = -4.32\n",
    "t = tire.Hoosier10X7()\n",
    "A_y = 0.06689*v**2/r\n",
    "print('Lateral Acceleration:', A_y)\n",
    "print('Necessary front tire force:', A_y*(W_s+W_uf+W_ur)*a_s/l)\n",
    "print('Necessary rear tire force:', A_y*(W_s+W_uf+W_ur)*(l-a_s)/l)\n",
    "load = load_from_A((0, A_y))\n",
    "SA = slip_from_steer(delta, beta, r)\n",
    "F_fr = t.get_force(-load[0]*4.448, SA[0], 0, 0)[1]*0.225\n",
    "F_fl = t.get_force(-load[1]*4.448, SA[1], 0, 0)[1]*0.225\n",
    "F_rr = t.get_force(-load[2]*4.448, SA[2], 0, 0)[1]*0.225\n",
    "F_rl = t.get_force(-load[3]*4.448, SA[3], 0, 0)[1]*0.225\n",
    "print('Total front tire force:', F_fr*np.cos(SA[0]*np.pi/180)+F_fl*np.cos(SA[1]*np.pi/180))\n",
    "print('Total rear tire force:', F_rr*np.cos(SA[2]*np.pi/180)+F_rl*np.cos(SA[3]*np.pi/180))\n",
    "print(F_fr*np.cos(SA[0]*np.pi/180), F_fl*np.cos(SA[1]*np.pi/180),\n",
    "      F_rr*np.cos(SA[2]*np.pi/180), F_rl*np.cos(SA[3]*np.pi/180))"
   ]
  },
  {
   "cell_type": "code",
   "execution_count": 8,
   "metadata": {
    "collapsed": false
   },
   "outputs": [
    {
     "name": "stdout",
     "output_type": "stream",
     "text": [
      "1.5540152360000001 -5.69778555242 9.83635266483\n"
     ]
    },
    {
     "name": "stderr",
     "output_type": "stream",
     "text": [
      "/home/robert/anaconda3/lib/python3.6/site-packages/ipykernel_launcher.py:4: RuntimeWarning: divide by zero encountered in double_scalars\n",
      "  after removing the cwd from sys.path.\n",
      "/home/robert/anaconda3/lib/python3.6/site-packages/ipykernel_launcher.py:5: RuntimeWarning: divide by zero encountered in double_scalars\n",
      "  \"\"\"\n"
     ]
    }
   ],
   "source": [
    "# Now calulate the steer angle and side slip angle for a given corner and velocity\n",
    "def front_lateral_force(load, SA):\n",
    "    F_fr = t.get_force(-load[0]*4.448, SA[0], 0, 0)[1]*0.225\n",
    "    F_fl = t.get_force(-load[1]*4.448, SA[1], 0, 0)[1]*0.225\n",
    "    F_fr *= np.cos(SA[0]*np.pi/180)\n",
    "    F_fl *= np.cos(SA[1]*np.pi/180)\n",
    "    return F_fr + F_fl\n",
    "def rear_lateral_force(load, SA):\n",
    "    F_rr = t.get_force(-load[2]*4.448, SA[2], 0, 0)[1]*0.225\n",
    "    F_rl = t.get_force(-load[3]*4.448, SA[3], 0, 0)[1]*0.225\n",
    "    F_rr *= np.cos(SA[2]*np.pi/180)\n",
    "    F_rl *= np.cos(SA[3]*np.pi/180)\n",
    "    return F_rr + F_rl\n",
    "# First calculate the side slip angle for the rear tires\n",
    "def rear_force(beta, A_y, r):\n",
    "    load = load_from_A((0, A_y))\n",
    "    delta = 0\n",
    "    SA = slip_from_steer(delta, beta, r)\n",
    "    return rear_lateral_force(load, SA) - A_y*(W_s+W_uf+W_ur)*(l-a_s)/l\n",
    "def front_force(delta, A_y, beta, r):\n",
    "    load = load_from_A((0, A_y))\n",
    "    SA = slip_from_steer(delta, beta, r)\n",
    "    return front_lateral_force(load, SA) - A_y*(W_s+W_uf+W_ur)*a_s/l\n",
    "def get_steer_angle(v, r):\n",
    "    \"\"\" Calculate the steer angle for a given speed and corner radius. \"\"\"\n",
    "    # v (mph), r(ft)\n",
    "    A_y = 0.06689*v**2/r\n",
    "    try:\n",
    "        beta = newton(rear_force, 1, args=(A_y, r))\n",
    "    except RuntimeError:\n",
    "        beta = float('nan')\n",
    "    try:\n",
    "        delta = newton(front_force, 150/r, args=(A_y, beta, r))\n",
    "    except RuntimeError:\n",
    "        delta = float('nan')\n",
    "    return beta, delta\n",
    "v = 24.1  #Speed (mph)\n",
    "r = 25 #Turn radius (ft)\n",
    "beta, delta = get_steer_angle(v, r)\n",
    "A_y = 0.06689*v**2/r\n",
    "print(A_y, beta, delta)"
   ]
  },
  {
   "cell_type": "code",
   "execution_count": 9,
   "metadata": {
    "collapsed": false
   },
   "outputs": [
    {
     "name": "stderr",
     "output_type": "stream",
     "text": [
      "/home/robert/anaconda3/lib/python3.6/site-packages/ipykernel_launcher.py:4: RuntimeWarning: divide by zero encountered in double_scalars\n",
      "  after removing the cwd from sys.path.\n",
      "/home/robert/anaconda3/lib/python3.6/site-packages/ipykernel_launcher.py:5: RuntimeWarning: divide by zero encountered in double_scalars\n",
      "  \"\"\"\n"
     ]
    },
    {
     "data": {
      "image/png": "[encoded data removed]",
      "text/plain": [
       "<matplotlib.figure.Figure at 0x7f0860a33c88>"
      ]
     },
     "metadata": {},
     "output_type": "display_data"
    },
    {
     "name": "stdout",
     "output_type": "stream",
     "text": [
      "[ 150.          134.94442607  119.88885215  104.83327822   89.7777043\n",
      "   74.72213037   59.66655645   44.61098252   29.5554086 ]\n",
      "[ 150.          165.05557393  180.11114785  195.16672178  210.2222957\n",
      "  225.27786963  240.33344355  255.38901748  270.4445914 ]\n"
     ]
    }
   ],
   "source": [
    "# Something isn't quite right, first look at rear lateral force as a function of beta\n",
    "N = 100\n",
    "M = 9\n",
    "r = 25\n",
    "beta = np.linspace(-15, 5, N)\n",
    "A_y = np.linspace(0, 2, M)\n",
    "force = np.zeros((M, N), dtype='double')\n",
    "load_rr = np.zeros((M, N), dtype='double')\n",
    "load_rl = np.zeros((M, N), dtype='double')\n",
    "SA_rr = np.zeros((M, N), dtype='double')\n",
    "SA_rl = np.zeros((M, N), dtype='double')\n",
    "delta = 0\n",
    "for i in range(M):\n",
    "    for j in range(N):\n",
    "        load = load_from_A((0, A_y[i]))\n",
    "        load_rr[i, j] = load[2]\n",
    "        load_rl[i, j] = load[3]\n",
    "        SA = slip_from_steer(delta, beta[j], r)\n",
    "        SA_rr[i, j] = SA[2]\n",
    "        SA_rl[i, j] = SA[3]\n",
    "        force[i, j] = rear_lateral_force(load, SA)\n",
    "    plt.plot(beta, force[i ,:])\n",
    "plt.legend([0, 0.25, 0.5, 0.75, 1.0, 1.25, 1.5, 1.75, 2.0], title=r'$A_y$')\n",
    "plt.title('Rear lateral force vs. beta')\n",
    "plt.xlabel(r'$\\beta$ (deg)')\n",
    "plt.ylabel(r'$F_y$ (lbf)')\n",
    "plt.show()\n",
    "print(load_rr[:, 0])\n",
    "print(load_rl[:, 0])\n",
    "# The zero acceleration case has 0 load transfer and should definitely pass through the origin\n",
    "# not necessarily true from "
   ]
  },
  {
   "cell_type": "code",
   "execution_count": 10,
   "metadata": {
    "collapsed": false
   },
   "outputs": [
    {
     "name": "stderr",
     "output_type": "stream",
     "text": [
      "/home/robert/anaconda3/lib/python3.6/site-packages/ipykernel_launcher.py:4: RuntimeWarning: divide by zero encountered in double_scalars\n",
      "  after removing the cwd from sys.path.\n",
      "/home/robert/anaconda3/lib/python3.6/site-packages/ipykernel_launcher.py:5: RuntimeWarning: divide by zero encountered in double_scalars\n",
      "  \"\"\"\n"
     ]
    },
    {
     "data": {
      "image/png": "[encoded data removed]",
      "text/plain": [
       "<matplotlib.figure.Figure at 0x7f0860a20320>"
      ]
     },
     "metadata": {},
     "output_type": "display_data"
    }
   ],
   "source": [
    "N = 100\n",
    "r = 25\n",
    "A_y = np.linspace(0, 2, N)\n",
    "v = np.sqrt(A_y*r/0.06689)\n",
    "beta = np.zeros(N, dtype='double')\n",
    "delta = np.zeros(N, dtype='double')\n",
    "for i in range(N):\n",
    "    beta[i], delta[i] = get_steer_angle(v[i], r)\n",
    "plt.plot(A_y, beta)\n",
    "plt.plot(A_y, delta)\n",
    "plt.title('Steer angle vs. lateral acceleration at r=25m')\n",
    "plt.legend([r'$\\beta$', r'$\\delta$'])\n",
    "plt.xlabel(r'$A_y$ (g)')\n",
    "plt.ylabel(r'angle (deg)')\n",
    "plt.show()"
   ]
  },
  {
   "cell_type": "code",
   "execution_count": 11,
   "metadata": {
    "collapsed": false
   },
   "outputs": [
    {
     "name": "stdout",
     "output_type": "stream",
     "text": [
      "Roll axis inclination: 1.43 deg\n",
      "Unsprung CG height from roll axis: 0.17 m\n",
      "Roll sensitivity: -0.50 deg/g\n",
      "Front longitudinal weight transfer: 230.72 N/g\n",
      "Rear longitudinal weight transfer:  268.52 N/g\n",
      "Longitudinal weight transfer:       399.74 N/g\n",
      "Front static wheel load:            -668.60 N\n",
      "Rear static wheel load:             -665.40 N\n",
      "Total weight:     -2668.00 N\n",
      "Wheel loads:          -322.53, -1014.68, -262.62, -1068.17\n",
      "Optimal slip angles:  6.97, 12.54, 6.61, 13.10\n",
      "Kinematic slip:       -11.95, -10.11, 1.00, -1.00\n",
      "Radius ind slip:      5.87, 5.04, -5.90, -5.07\n",
      "Slip angles:          -6.08, -5.07, -4.90, -6.07\n",
      "Tire lateral forces:  595.26, 1215.03, 473.56, 1346.54\n",
      "Eff long forces:      -123.27, -213.32, 183.24, 151.47\n",
      "Eff lateral forces:   582.36, 1196.15, 470.44, 1349.39\n"
     ]
    }
   ],
   "source": [
    "import car\n",
    "import importlib\n",
    "importlib.reload(car)\n",
    "\n",
    "params = {\n",
    "    'W_uf' : 111,    #Front unsprung weight (N)\n",
    "    'W_ur' : 111,    #Rear unsprung weight  (N)\n",
    "    'W_s'  : 2446,   #Sprung weight         (N)\n",
    "    # CG locations\n",
    "    'z_wf' : 0.21,   #Front unsprung height (m)\n",
    "    'z_wr' : 0.21,   #Rear unsprung height  (m)\n",
    "    'h_s'  : 0.23,   #Sprung height         (m)\n",
    "    'a_s'  : 0.76,   #Sprung distance from front axle (m)\n",
    "    # Car geometry\n",
    "    'l'    : 1.524,  #Wheelbase   (m)\n",
    "    't_f'  : 1.22,   #Front track (m)\n",
    "    't_r'  : 1.22,   #Rear track  (m)\n",
    "    # Roll center heights\n",
    "    'z_rf' : 0.038,  #Front roll center height (m)\n",
    "    'z_rr' : 0.076,  #Rear roll center height  (m)\n",
    "    # Roll rates\n",
    "    'K_f'  : 24.5e3, #Front roll rate (N-m/rad)\n",
    "    'K_r'  : 24.5e3, #Rear roll rate  (N-m/rad)\n",
    "    # Steering\n",
    "    'ack'  : 0.5,    #Steering Ackerman (%)\n",
    "    'toe_f': -0.5,   #Front toe (deg)\n",
    "    'toe_r': 1.0,    #Rear toe  (deg)\n",
    "    'tire' : tire.Hoosier10X7()\n",
    "}\n",
    "C = car.Car(params)\n",
    "r = 8\n",
    "A_y = 1.5\n",
    "load = C.load_from_A(0.0, A_y)\n",
    "print('Wheel loads:          %0.2f, %0.2f, %0.2f, %0.2f' % load)\n",
    "SAp = C.calc_peak_slip_angles(load)\n",
    "print('Optimal slip angles:  %0.2f, %0.2f, %0.2f, %0.2f' % SAp)\n",
    "beta = 0 * (np.pi/180)\n",
    "delta = 11 * (np.pi/180)\n",
    "KA = C.kinematic_slip(beta, delta)\n",
    "print('Kinematic slip:       %0.2f, %0.2f, %0.2f, %0.2f' % \n",
    "      (KA[0]*180/np.pi, KA[1]*180/np.pi, KA[2]*180/np.pi, KA[3]*180/np.pi))\n",
    "RSA = C.radius_induced_slip(beta, r)\n",
    "print('Radius ind slip:      %0.2f, %0.2f, %0.2f, %0.2f' % \n",
    "      (RSA[0]*180/np.pi, RSA[1]*180/np.pi, RSA[2]*180/np.pi, RSA[3]*180/np.pi))\n",
    "SA = C.get_slip_angles(beta, r, KA)\n",
    "print('Slip angles:          %0.2f, %0.2f, %0.2f, %0.2f' % \n",
    "      (SA[0]*180/np.pi, SA[1]*180/np.pi, SA[2]*180/np.pi, SA[3]*180/np.pi))\n",
    "F = C.get_tire_forces(350, load, SA)\n",
    "print('Tire lateral forces:  %0.2f, %0.2f, %0.2f, %0.2f' % (F[0][1], F[1][1], F[2][1], F[3][1]))\n",
    "FE = C.get_effective_tire_forces(F, KA)\n",
    "print('Eff long forces:      %0.2f, %0.2f, %0.2f, %0.2f' % (FE[0][0], FE[1][0], FE[2][0], FE[3][0]))\n",
    "print('Eff lateral forces:   %0.2f, %0.2f, %0.2f, %0.2f' % (FE[0][1], FE[1][1], FE[2][1], FE[3][1]))"
   ]
  },
  {
   "cell_type": "code",
   "execution_count": 12,
   "metadata": {
    "collapsed": false
   },
   "outputs": [
    {
     "name": "stdout",
     "output_type": "stream",
     "text": [
      "1.22282374493\n",
      "Slip angles:          -3.93, -3.21, -3.83, -5.15\n",
      "Eff long forces:      -108.68, -127.38, 127.43, 108.63\n",
      "Eff lateral forces:   624.58, 886.53, 536.59, 1214.79\n"
     ]
    }
   ],
   "source": [
    "# Now lets see if I can solve for a steady state cornering condition\n",
    "# I think iteratively calculate A_y and loads\n",
    "r = 8\n",
    "# Test converging on lateral acceleration\n",
    "beta = 1\n",
    "delta = 10\n",
    "beta *= (np.pi/180)\n",
    "delta *= (np.pi/180)\n",
    "A_y = 0.5\n",
    "Fx = 200\n",
    "for k in range(100):\n",
    "    load = C.load_from_A(-A_y*np.sin(beta), A_y*np.cos(beta))\n",
    "    KA = C.kinematic_slip(beta, delta)\n",
    "    SA = C.get_slip_angles(beta, r, KA)\n",
    "    F = C.get_tire_forces(Fx, load, SA)\n",
    "    FE = C.get_effective_tire_forces(F, KA)\n",
    "    Fx += -C.calc_total_longitudinal_force(FE)\n",
    "    A_y = -C.calc_total_lateral_force(FE)/C.W\n",
    "print(A_y)\n",
    "print('Slip angles:          %0.2f, %0.2f, %0.2f, %0.2f' % \n",
    "      (SA[0]*180/np.pi, SA[1]*180/np.pi, SA[2]*180/np.pi, SA[3]*180/np.pi))\n",
    "print('Eff long forces:      %0.2f, %0.2f, %0.2f, %0.2f' % (FE[0][0], FE[1][0], FE[2][0], FE[3][0]))\n",
    "print('Eff lateral forces:   %0.2f, %0.2f, %0.2f, %0.2f' % (FE[0][1], FE[1][1], FE[2][1], FE[3][1]))"
   ]
  },
  {
   "cell_type": "code",
   "execution_count": 13,
   "metadata": {
    "collapsed": false
   },
   "outputs": [
    {
     "name": "stdout",
     "output_type": "stream",
     "text": [
      "13.1140886678\n"
     ]
    }
   ],
   "source": [
    "# Lets try using a root finding algorithm to find this for a given beta\n",
    "r = 8\n",
    "beta = 0.0\n",
    "delta0 = 12\n",
    "beta *= (np.pi/180)\n",
    "delta0 *= (np.pi/180)\n",
    "def Mx_from_delta(delta, r, beta):\n",
    "    Ay, Fx, load, KA, SA, F, FE = C.Ay_Fx_from_angle(r, beta, delta, extra=True)\n",
    "    FC = C.get_chassis_tire_forces(F, KA, beta)\n",
    "    Mz = C.calc_yaw_moment(FC)\n",
    "    return Mz\n",
    "delta = newton(Mx_from_delta, delta0, args=(r, beta))\n",
    "print(delta*180/np.pi)"
   ]
  },
  {
   "cell_type": "code",
   "execution_count": 14,
   "metadata": {
    "collapsed": true
   },
   "outputs": [],
   "source": [
    "def get_delta(r, beta):\n",
    "    \"\"\" Calculate the steer angle for a given speed and corner radius. \"\"\"\n",
    "    try:\n",
    "        delta = newton(Mx_from_delta, delta0, args=(r, beta))\n",
    "    except RuntimeError:\n",
    "        delta = float('nan')\n",
    "    if abs(delta) > 0.5:\n",
    "        delta = float('nan')\n",
    "    return delta"
   ]
  },
  {
   "cell_type": "code",
   "execution_count": 15,
   "metadata": {
    "collapsed": true
   },
   "outputs": [],
   "source": [
    "N = 100\n",
    "r = 4\n",
    "beta = np.linspace(-5, 10, N)\n",
    "delta0 = 15\n",
    "beta *= (np.pi/180)\n",
    "delta0 *= (np.pi/180)\n",
    "delta = np.zeros(N, dtype='double')\n",
    "Ay = np.zeros(N, dtype='double')\n",
    "for i in range(N):\n",
    "    delta[i] = get_delta(r, beta[i])\n",
    "    Ay[i], Fx = C.Ay_Fx_from_angle(r, beta[i], delta[i])"
   ]
  },
  {
   "cell_type": "code",
   "execution_count": 16,
   "metadata": {
    "collapsed": false
   },
   "outputs": [
    {
     "name": "stderr",
     "output_type": "stream",
     "text": [
      "/home/robert/anaconda3/lib/python3.6/site-packages/ipykernel_launcher.py:1: RuntimeWarning: invalid value encountered in greater\n",
      "  \"\"\"Entry point for launching an IPython kernel.\n"
     ]
    },
    {
     "data": {
      "image/png": "[encoded data removed]",
      "text/plain": [
       "<matplotlib.figure.Figure at 0x7f082fe4f4e0>"
      ]
     },
     "metadata": {},
     "output_type": "display_data"
    }
   ],
   "source": [
    "sel = Ay > 0\n",
    "plt.plot(beta[sel]*180/np.pi, delta[sel]*180/np.pi, 'tab:blue')\n",
    "plt.title('Lateral acceleration and steer angle')\n",
    "plt.xlabel(r'$\\beta$ (deg)')\n",
    "plt.ylabel(r'$\\delta$ (deg)')\n",
    "plt.twinx()\n",
    "plt.plot(beta[sel]*180/np.pi, Ay[sel], 'tab:red')\n",
    "plt.legend([r'Ay'])\n",
    "plt.show()"
   ]
  }
 ],
 "metadata": {
  "kernelspec": {
   "display_name": "Python 3",
   "language": "python",
   "name": "python3"
  },
  "language_info": {
   "codemirror_mode": {
    "name": "ipython",
    "version": 3
   },
   "file_extension": ".py",
   "mimetype": "text/x-python",
   "name": "python",
   "nbconvert_exporter": "python",
   "pygments_lexer": "ipython3",
   "version": "3.6.0"
  }
 },
 "nbformat": 4,
 "nbformat_minor": 2
}
